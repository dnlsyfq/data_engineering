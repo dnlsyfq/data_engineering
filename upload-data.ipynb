{
 "cells": [
  {
   "cell_type": "code",
   "execution_count": 7,
   "id": "92248c6c",
   "metadata": {},
   "outputs": [],
   "source": [
    "import pandas as pd\n",
    "import pyarrow.parquet as pq"
   ]
  },
  {
   "cell_type": "code",
   "execution_count": 11,
   "id": "a82d55c3",
   "metadata": {},
   "outputs": [
    {
     "name": "stdout",
     "output_type": "stream",
     "text": [
      " Volume in drive C has no label.\n",
      " Volume Serial Number is A8F7-A597\n",
      "\n",
      " Directory of C:\\Users\\dania\\code\\bootcamp\\data_engineering\\resources\n",
      "\n",
      "13-Jul-22  08:12 PM    <DIR>          .\n",
      "13-Jul-22  08:12 PM    <DIR>          ..\n",
      "13-Jul-22  08:12 PM        21,686,067 yellow_tripdata_2021-01.parquet\n",
      "               1 File(s)     21,686,067 bytes\n",
      "               2 Dir(s)   9,238,069,248 bytes free\n"
     ]
    }
   ],
   "source": [
    "ls \"./resources\""
   ]
  },
  {
   "cell_type": "code",
   "execution_count": 12,
   "id": "5cc46b18",
   "metadata": {},
   "outputs": [],
   "source": [
    "data = pq.read_table('./resources/yellow_tripdata_2021-01.parquet')\n",
    "df = data.to_pandas()"
   ]
  },
  {
   "cell_type": "code",
   "execution_count": 14,
   "id": "0da63cca",
   "metadata": {},
   "outputs": [
    {
     "data": {
      "text/plain": [
       "'C:\\\\Users\\\\dania\\\\code\\\\bootcamp\\\\data_engineering'"
      ]
     },
     "execution_count": 14,
     "metadata": {},
     "output_type": "execute_result"
    }
   ],
   "source": [
    "pwd"
   ]
  },
  {
   "cell_type": "code",
   "execution_count": 15,
   "id": "65183061",
   "metadata": {},
   "outputs": [],
   "source": [
    "df.to_csv('yellow_tripdata_2021-01.csv')"
   ]
  },
  {
   "cell_type": "code",
   "execution_count": null,
   "id": "6b14648b",
   "metadata": {},
   "outputs": [],
   "source": []
  }
 ],
 "metadata": {
  "kernelspec": {
   "display_name": "Python 3 (ipykernel)",
   "language": "python",
   "name": "python3"
  },
  "language_info": {
   "codemirror_mode": {
    "name": "ipython",
    "version": 3
   },
   "file_extension": ".py",
   "mimetype": "text/x-python",
   "name": "python",
   "nbconvert_exporter": "python",
   "pygments_lexer": "ipython3",
   "version": "3.9.4"
  }
 },
 "nbformat": 4,
 "nbformat_minor": 5
}
